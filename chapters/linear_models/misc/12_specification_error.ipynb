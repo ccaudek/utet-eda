{
 "cells": [
  {
   "attachments": {},
   "cell_type": "markdown",
   "metadata": {},
   "source": [
    "# Errore di specificazione {#sec-specification-error}"
   ]
  },
  {
   "cell_type": "markdown",
   "metadata": {},
   "source": [
    "**Prerequisiti**\n",
    "\n",
    "- Leggi [Statistical model specification](https://en.wikipedia.org/wiki/Statistical_model_specification).\n",
    "\n",
    "**Concetti e competenze chiave**\n",
    "\n",
    "**Preparazione del Notebook**"
   ]
  },
  {
   "cell_type": "code",
   "execution_count": 2,
   "metadata": {
    "ExecuteTime": {
     "end_time": "2023-07-31T11:39:45.136075Z",
     "start_time": "2023-07-31T11:39:44.400810Z"
    }
   },
   "outputs": [],
   "source": [
    "import numpy as np\n",
    "import pandas as pd\n",
    "import matplotlib.pyplot as plt\n",
    "import arviz as az\n",
    "import bambi as bmb\n",
    "import pingouin as pg\n",
    "import warnings\n",
    "warnings.filterwarnings(\"ignore\")"
   ]
  },
  {
   "cell_type": "code",
   "execution_count": 3,
   "metadata": {},
   "outputs": [],
   "source": [
    "seed: int = sum(map(ord, \"specification_error\"))\n",
    "rng: np.random.Generator = np.random.default_rng(seed=seed)\n",
    "az.style.use(\"arviz-darkgrid\")\n",
    "%config InlineBackend.figure_format = \"retina\""
   ]
  },
  {
   "cell_type": "markdown",
   "metadata": {},
   "source": [
    "## Introduzione {.unnumbered}\n",
    "\n",
    "In questo capitolo esamineremo l'errore di specificazione nei modelli di regressione lineare. L'errore di specificazione si verifica quando una variabile importante viene omessa dal modello, causando stime dei coefficienti che risultano sistematicamente distorte e inconsistenti."
   ]
  },
  {
   "cell_type": "markdown",
   "metadata": {},
   "source": [
    "## Dimostrazione\n",
    "\n",
    "La dimostrazione algebrica dell'errore di specificazione nel modello di regressione, in caso di omissione di una variabile rilevante, coinvolge l'analisi delle conseguenze che questa omissione ha sulla stima dei coefficienti di regressione. \n",
    "\n",
    "Quando un modello di regressione omette una variabile rilevante che è correlata sia con la variabile dipendente $Y$ sia con almeno una delle variabili indipendenti incluse nel modello, il coefficiente stimato per le variabili indipendenti incluse può essere sistematicamente distorto. \n",
    "\n",
    "Per comprendere il bias causato dall'omissione di una variabile rilevante in un modello di regressione, è essenziale analizzare dettagliatamente il calcolo delle covarianze e varianze coinvolte. Di seguito viene fornita una spiegazione dei passaggi algebrici che portano alla formulazione del *bias di omissione variabile* (*Omitted Variable Bias*, OVB).\n",
    "\n",
    "### Modello Completo e Modello Ridotto\n",
    "\n",
    "1. **Modello Completo:**\n",
    "\n",
    "   $$\n",
    "   Y = \\beta_0 + \\beta_1 X + \\beta_2 Z + \\epsilon\n",
    "   $$\n",
    "\n",
    "   Qui, $Y$ è la variabile dipendente, $X$ e $Z$ sono variabili indipendenti, $\\beta_0, \\beta_1, \\beta_2$ sono i coefficienti, e $\\epsilon$ è il termine di errore.\n",
    "\n",
    "2. **Modello Ridotto (con omissione di $Z$):**\n",
    "\n",
    "   $$\n",
    "   Y = \\alpha_0 + \\alpha_1 X + u\n",
    "   $$\n",
    "\n",
    "   dove $u = \\beta_2 Z + \\epsilon$ rappresenta il nuovo termine di errore che ora include l'effetto non osservato di $Z$.\n",
    "\n",
    "### Decomposizione di $X$\n",
    "\n",
    "Ipotesi:\n",
    "\n",
    "$$ X = \\gamma_0 + \\gamma_1 Z + V $$\n",
    "\n",
    "dove $V$ è una parte di $X$ indipendente da $Z$, quindi $\\text{Cov}(V, Z) = 0$.\n",
    "\n",
    "### Sostituzione nel Modello Ridotto\n",
    "\n",
    "Sostituendo la decomposizione di $X$ nel modello ridotto, otteniamo:\n",
    "\n",
    "$$ Y = \\alpha_0 + \\alpha_1 (\\gamma_0 + \\gamma_1 Z + V) + u $$\n",
    "\n",
    "$$ Y = \\alpha_0 + \\alpha_1 \\gamma_0 + \\alpha_1 \\gamma_1 Z + \\alpha_1 V + \\beta_2 Z + \\epsilon $$\n",
    "\n",
    "$$ Y = (\\alpha_0 + \\alpha_1 \\gamma_0) + (\\alpha_1 \\gamma_1 + \\beta_2) Z + \\alpha_1 V + \\epsilon $$\n",
    "\n",
    "### Calcolo della Covarianza $\\text{Cov}(Y, X)$\n",
    "\n",
    "$$ \\text{Cov}(Y, X) = \\text{Cov}(\\beta_1 X + \\beta_2 Z + \\epsilon, X) $$\n",
    "\n",
    "$$ \\text{Cov}(Y, X) = \\beta_1 \\text{Var}(X) + \\beta_2 \\text{Cov}(Z, X) $$\n",
    "\n",
    "dove si usa che $\\text{Cov}(\\epsilon, X) = 0$ poiché $\\epsilon$ è indipendente da $X$.\n",
    "\n",
    "### Calcolo della Varianza di $X$\n",
    "\n",
    "$$ \\text{Var}(X) = \\text{Var}(\\gamma_0 + \\gamma_1 Z + V) $$\n",
    "\n",
    "$$ \\text{Var}(X) = \\gamma_1^2 \\text{Var}(Z) + \\text{Var}(V) $$\n",
    "\n",
    "Ancora, $\\text{Cov}(Z, V) = 0$ perché $V$ è definito come indipendente da $Z$.\n",
    "\n",
    "### Formula del Coefficiente Stimato $\\hat{\\alpha}_1$\n",
    "\n",
    "$$ \\hat{\\alpha}_1 = \\frac{\\text{Cov}(Y, X)}{\\text{Var}(X)} $$\n",
    "\n",
    "$$ \\hat{\\alpha}_1 = \\beta_1 + \\beta_2 \\frac{\\text{Cov}(Z, X)}{\\text{Var}(X)} $$\n",
    "\n",
    "### Interpretazione del Bias\n",
    "\n",
    "Il bias nel coefficiente stimato $\\alpha_1$, rispetto al vero coefficiente $\\beta_1$, è dato da:\n",
    "\n",
    "$$ \\text{Bias}(\\hat{\\alpha}_1) = \\beta_2 \\frac{\\text{Cov}(Z, X)}{\\text{Var}(X)} $$\n",
    "\n",
    "Questo risultato dimostra che il bias è direttamente proporzionale al coefficiente $\\beta_2$ della variabile omessa $Z$ e al rapporto di covarianza tra $Z$ e $X$ diviso per la varianza di $X$. Questo bias può essere positivo o negativo a seconda della direzione della correlazione tra $X$ e $Z$, e della grandezza di $\\beta_2$.\n",
    "\n",
    "### Conclusioni\n",
    "\n",
    "In sintesi, l'omissione di $Z$ introduce un bias nella stima di $\\alpha_1$ che non riflette accuratamente $\\beta_1$ se $Z$ è correlata sia con $Y$ che con $X$. Questo errore di specificazione può portare a conclusioni errate sull'effetto di $X$ su $Y$ e compromettere l'accuratezza delle inferenze tratte dal modello di regressione."
   ]
  },
  {
   "cell_type": "markdown",
   "metadata": {},
   "source": [
    "## Un esempio numerico\n",
    "\n",
    "Immaginiamo di analizzare l'impatto di due variabili indipendenti, la motivazione e l'ansia, sulla prestazione in un compito specifico. Supponiamo che l'ansia influenzi negativamente la prestazione, mentre la motivazione abbia un effetto positivo. \n",
    "\n",
    "La nostra simulazione evidenzia due scenari distinti:\n",
    "\n",
    "1. **Modello Completo**: Quando sia la motivazione che l'ansia sono incluse nel modello di regressione, il coefficiente di regressione per l'ansia viene stimato correttamente come negativo, riflettendo il suo impatto negativo sulla prestazione. Questo conferma che, quando tutte le variabili rilevanti sono presenti, la stima dei loro effetti è accurata e non distorta.\n",
    "\n",
    "2. **Modello Ridotto (omissione della motivazione)**: Se la motivazione, che è positivamente correlata alla prestazione e positivamente correlata all'ansia, viene omessa dal modello, osserviamo un cambiamento notevole nel coefficiente di regressione per l'ansia. In questo modello ridotto, il coefficiente per l'ansia può addirittura diventare positivo, suggerendo erroneamente che l'ansia abbia un effetto benefico sulla prestazione. Questo fenomeno si verifica perché l'effetto indiretto e non osservato della motivazione sull'ansia porta a una stima distorta quando la motivazione non è controllata nel modello."
   ]
  },
  {
   "cell_type": "code",
   "execution_count": 4,
   "metadata": {},
   "outputs": [],
   "source": [
    "# Generiamo dati casuali\n",
    "np.random.seed(42)\n",
    "n = 100  # Numero di osservazioni\n",
    "\n",
    "# Variabili indipendenti con correlazione negativa tra loro\n",
    "motivazione = np.random.normal(100, 10, n)\n",
    "ansia = 200 + 0.75 * motivazione + np.random.normal(0, 5, n)\n",
    "\n",
    "# Variabile dipendente, con peso maggiore sulla motivazione rispetto all'ansia\n",
    "prestazione = 5 * motivazione - 1 * ansia + np.random.normal(0, 50, n)\n",
    "\n",
    "# Creazione DataFrame\n",
    "data = pd.DataFrame(\n",
    "    {\"Motivazione\": motivazione, \"Ansia\": ansia, \"Prestazione\": prestazione}\n",
    ")"
   ]
  },
  {
   "cell_type": "code",
   "execution_count": 5,
   "metadata": {
    "tags": [
     "hide-output"
    ]
   },
   "outputs": [
    {
     "data": {
      "application/vnd.jupyter.widget-view+json": {
       "model_id": "dde115a6ed324769a8f7904cb9c0c1a4",
       "version_major": 2,
       "version_minor": 0
      },
      "text/plain": [
       "  0%|          | 0/2000 [00:00<?, ?it/s]"
      ]
     },
     "metadata": {},
     "output_type": "display_data"
    },
    {
     "data": {
      "application/vnd.jupyter.widget-view+json": {
       "model_id": "eca185e9a61d487b806b5f5c65ad0716",
       "version_major": 2,
       "version_minor": 0
      },
      "text/plain": [
       "  0%|          | 0/2000 [00:00<?, ?it/s]"
      ]
     },
     "metadata": {},
     "output_type": "display_data"
    },
    {
     "data": {
      "application/vnd.jupyter.widget-view+json": {
       "model_id": "aa2aee0f01654d3bad79616c538822a9",
       "version_major": 2,
       "version_minor": 0
      },
      "text/plain": [
       "  0%|          | 0/2000 [00:00<?, ?it/s]"
      ]
     },
     "metadata": {},
     "output_type": "display_data"
    },
    {
     "data": {
      "application/vnd.jupyter.widget-view+json": {
       "model_id": "1cb2a08d73004747aef95ef484d94b3c",
       "version_major": 2,
       "version_minor": 0
      },
      "text/plain": [
       "  0%|          | 0/2000 [00:00<?, ?it/s]"
      ]
     },
     "metadata": {},
     "output_type": "display_data"
    }
   ],
   "source": [
    "model_full = bmb.Model(\"Prestazione ~ Motivazione + Ansia\", data=data)\n",
    "results_full = model_full.fit(nuts_sampler=\"numpyro\")"
   ]
  },
  {
   "cell_type": "code",
   "execution_count": 6,
   "metadata": {},
   "outputs": [
    {
     "data": {
      "text/html": [
       "<div>\n",
       "<style scoped>\n",
       "    .dataframe tbody tr th:only-of-type {\n",
       "        vertical-align: middle;\n",
       "    }\n",
       "\n",
       "    .dataframe tbody tr th {\n",
       "        vertical-align: top;\n",
       "    }\n",
       "\n",
       "    .dataframe thead th {\n",
       "        text-align: right;\n",
       "    }\n",
       "</style>\n",
       "<table border=\"1\" class=\"dataframe\">\n",
       "  <thead>\n",
       "    <tr style=\"text-align: right;\">\n",
       "      <th></th>\n",
       "      <th>mean</th>\n",
       "      <th>sd</th>\n",
       "      <th>hdi_3%</th>\n",
       "      <th>hdi_97%</th>\n",
       "      <th>mcse_mean</th>\n",
       "      <th>mcse_sd</th>\n",
       "      <th>ess_bulk</th>\n",
       "      <th>ess_tail</th>\n",
       "      <th>r_hat</th>\n",
       "    </tr>\n",
       "  </thead>\n",
       "  <tbody>\n",
       "    <tr>\n",
       "      <th>Ansia</th>\n",
       "      <td>-1.12</td>\n",
       "      <td>1.18</td>\n",
       "      <td>-3.33</td>\n",
       "      <td>1.01</td>\n",
       "      <td>0.02</td>\n",
       "      <td>0.02</td>\n",
       "      <td>2347.49</td>\n",
       "      <td>2341.41</td>\n",
       "      <td>1.0</td>\n",
       "    </tr>\n",
       "    <tr>\n",
       "      <th>Intercept</th>\n",
       "      <td>-83.86</td>\n",
       "      <td>250.01</td>\n",
       "      <td>-521.27</td>\n",
       "      <td>393.71</td>\n",
       "      <td>4.87</td>\n",
       "      <td>3.59</td>\n",
       "      <td>2641.21</td>\n",
       "      <td>2665.94</td>\n",
       "      <td>1.0</td>\n",
       "    </tr>\n",
       "    <tr>\n",
       "      <th>Motivazione</th>\n",
       "      <td>6.21</td>\n",
       "      <td>1.01</td>\n",
       "      <td>4.38</td>\n",
       "      <td>8.11</td>\n",
       "      <td>0.02</td>\n",
       "      <td>0.01</td>\n",
       "      <td>2359.56</td>\n",
       "      <td>2569.60</td>\n",
       "      <td>1.0</td>\n",
       "    </tr>\n",
       "    <tr>\n",
       "      <th>Prestazione_sigma</th>\n",
       "      <td>54.19</td>\n",
       "      <td>3.86</td>\n",
       "      <td>47.05</td>\n",
       "      <td>61.19</td>\n",
       "      <td>0.06</td>\n",
       "      <td>0.05</td>\n",
       "      <td>3580.58</td>\n",
       "      <td>2684.47</td>\n",
       "      <td>1.0</td>\n",
       "    </tr>\n",
       "  </tbody>\n",
       "</table>\n",
       "</div>"
      ],
      "text/plain": [
       "                    mean      sd  hdi_3%  hdi_97%  mcse_mean  mcse_sd  \\\n",
       "Ansia              -1.12    1.18   -3.33     1.01       0.02     0.02   \n",
       "Intercept         -83.86  250.01 -521.27   393.71       4.87     3.59   \n",
       "Motivazione         6.21    1.01    4.38     8.11       0.02     0.01   \n",
       "Prestazione_sigma  54.19    3.86   47.05    61.19       0.06     0.05   \n",
       "\n",
       "                   ess_bulk  ess_tail  r_hat  \n",
       "Ansia               2347.49   2341.41    1.0  \n",
       "Intercept           2641.21   2665.94    1.0  \n",
       "Motivazione         2359.56   2569.60    1.0  \n",
       "Prestazione_sigma   3580.58   2684.47    1.0  "
      ]
     },
     "execution_count": 6,
     "metadata": {},
     "output_type": "execute_result"
    }
   ],
   "source": [
    "az.summary(results_full, round_to=2)"
   ]
  },
  {
   "cell_type": "code",
   "execution_count": 7,
   "metadata": {},
   "outputs": [
    {
     "data": {
      "text/html": [
       "<div>\n",
       "<style scoped>\n",
       "    .dataframe tbody tr th:only-of-type {\n",
       "        vertical-align: middle;\n",
       "    }\n",
       "\n",
       "    .dataframe tbody tr th {\n",
       "        vertical-align: top;\n",
       "    }\n",
       "\n",
       "    .dataframe thead th {\n",
       "        text-align: right;\n",
       "    }\n",
       "</style>\n",
       "<table border=\"1\" class=\"dataframe\">\n",
       "  <thead>\n",
       "    <tr style=\"text-align: right;\">\n",
       "      <th></th>\n",
       "      <th>names</th>\n",
       "      <th>coef</th>\n",
       "      <th>se</th>\n",
       "      <th>T</th>\n",
       "      <th>pval</th>\n",
       "      <th>r2</th>\n",
       "      <th>adj_r2</th>\n",
       "      <th>CI[2.5%]</th>\n",
       "      <th>CI[97.5%]</th>\n",
       "    </tr>\n",
       "  </thead>\n",
       "  <tbody>\n",
       "    <tr>\n",
       "      <th>0</th>\n",
       "      <td>Intercept</td>\n",
       "      <td>-84.058695</td>\n",
       "      <td>244.261908</td>\n",
       "      <td>-0.344133</td>\n",
       "      <td>7.314908e-01</td>\n",
       "      <td>0.467656</td>\n",
       "      <td>0.456679</td>\n",
       "      <td>-568.850966</td>\n",
       "      <td>400.733576</td>\n",
       "    </tr>\n",
       "    <tr>\n",
       "      <th>1</th>\n",
       "      <td>Motivazione</td>\n",
       "      <td>6.222523</td>\n",
       "      <td>0.977770</td>\n",
       "      <td>6.363994</td>\n",
       "      <td>6.510176e-09</td>\n",
       "      <td>0.467656</td>\n",
       "      <td>0.456679</td>\n",
       "      <td>4.281920</td>\n",
       "      <td>8.163125</td>\n",
       "    </tr>\n",
       "    <tr>\n",
       "      <th>2</th>\n",
       "      <td>Ansia</td>\n",
       "      <td>-1.122768</td>\n",
       "      <td>1.143817</td>\n",
       "      <td>-0.981597</td>\n",
       "      <td>3.287403e-01</td>\n",
       "      <td>0.467656</td>\n",
       "      <td>0.456679</td>\n",
       "      <td>-3.392928</td>\n",
       "      <td>1.147393</td>\n",
       "    </tr>\n",
       "  </tbody>\n",
       "</table>\n",
       "</div>"
      ],
      "text/plain": [
       "         names       coef          se         T          pval        r2  \\\n",
       "0    Intercept -84.058695  244.261908 -0.344133  7.314908e-01  0.467656   \n",
       "1  Motivazione   6.222523    0.977770  6.363994  6.510176e-09  0.467656   \n",
       "2        Ansia  -1.122768    1.143817 -0.981597  3.287403e-01  0.467656   \n",
       "\n",
       "     adj_r2    CI[2.5%]   CI[97.5%]  \n",
       "0  0.456679 -568.850966  400.733576  \n",
       "1  0.456679    4.281920    8.163125  \n",
       "2  0.456679   -3.392928    1.147393  "
      ]
     },
     "execution_count": 7,
     "metadata": {},
     "output_type": "execute_result"
    }
   ],
   "source": [
    "# Analisi di regressione con pingouin\n",
    "results_full = pg.linear_regression(data[[\"Motivazione\", \"Ansia\"]], data[\"Prestazione\"])\n",
    "results_full"
   ]
  },
  {
   "cell_type": "code",
   "execution_count": 8,
   "metadata": {
    "tags": [
     "hide-output"
    ]
   },
   "outputs": [
    {
     "data": {
      "application/vnd.jupyter.widget-view+json": {
       "model_id": "15ab39c503984618957529fef883c2c6",
       "version_major": 2,
       "version_minor": 0
      },
      "text/plain": [
       "  0%|          | 0/2000 [00:00<?, ?it/s]"
      ]
     },
     "metadata": {},
     "output_type": "display_data"
    },
    {
     "data": {
      "application/vnd.jupyter.widget-view+json": {
       "model_id": "256682a4e035449291fefc8a90a59ea7",
       "version_major": 2,
       "version_minor": 0
      },
      "text/plain": [
       "  0%|          | 0/2000 [00:00<?, ?it/s]"
      ]
     },
     "metadata": {},
     "output_type": "display_data"
    },
    {
     "data": {
      "application/vnd.jupyter.widget-view+json": {
       "model_id": "20283f97b4954b7baa57e9a4a2131b51",
       "version_major": 2,
       "version_minor": 0
      },
      "text/plain": [
       "  0%|          | 0/2000 [00:00<?, ?it/s]"
      ]
     },
     "metadata": {},
     "output_type": "display_data"
    },
    {
     "data": {
      "application/vnd.jupyter.widget-view+json": {
       "model_id": "06894b0a09684fb29ee4fd9baa91b4b0",
       "version_major": 2,
       "version_minor": 0
      },
      "text/plain": [
       "  0%|          | 0/2000 [00:00<?, ?it/s]"
      ]
     },
     "metadata": {},
     "output_type": "display_data"
    }
   ],
   "source": [
    "model_ansia_only = bmb.Model(\"Prestazione ~ Ansia\", data=data)\n",
    "results_ansia_only = model_ansia_only.fit(nuts_sampler=\"numpyro\")"
   ]
  },
  {
   "cell_type": "code",
   "execution_count": 9,
   "metadata": {},
   "outputs": [
    {
     "data": {
      "text/html": [
       "<div>\n",
       "<style scoped>\n",
       "    .dataframe tbody tr th:only-of-type {\n",
       "        vertical-align: middle;\n",
       "    }\n",
       "\n",
       "    .dataframe tbody tr th {\n",
       "        vertical-align: top;\n",
       "    }\n",
       "\n",
       "    .dataframe thead th {\n",
       "        text-align: right;\n",
       "    }\n",
       "</style>\n",
       "<table border=\"1\" class=\"dataframe\">\n",
       "  <thead>\n",
       "    <tr style=\"text-align: right;\">\n",
       "      <th></th>\n",
       "      <th>mean</th>\n",
       "      <th>sd</th>\n",
       "      <th>hdi_3%</th>\n",
       "      <th>hdi_97%</th>\n",
       "      <th>mcse_mean</th>\n",
       "      <th>mcse_sd</th>\n",
       "      <th>ess_bulk</th>\n",
       "      <th>ess_tail</th>\n",
       "      <th>r_hat</th>\n",
       "    </tr>\n",
       "  </thead>\n",
       "  <tbody>\n",
       "    <tr>\n",
       "      <th>Ansia</th>\n",
       "      <td>4.66</td>\n",
       "      <td>0.84</td>\n",
       "      <td>3.01</td>\n",
       "      <td>6.13</td>\n",
       "      <td>0.01</td>\n",
       "      <td>0.01</td>\n",
       "      <td>3797.94</td>\n",
       "      <td>2688.34</td>\n",
       "      <td>1.0</td>\n",
       "    </tr>\n",
       "    <tr>\n",
       "      <th>Intercept</th>\n",
       "      <td>-1055.09</td>\n",
       "      <td>229.27</td>\n",
       "      <td>-1470.97</td>\n",
       "      <td>-615.01</td>\n",
       "      <td>3.71</td>\n",
       "      <td>2.65</td>\n",
       "      <td>3810.32</td>\n",
       "      <td>2766.51</td>\n",
       "      <td>1.0</td>\n",
       "    </tr>\n",
       "    <tr>\n",
       "      <th>Prestazione_sigma</th>\n",
       "      <td>64.14</td>\n",
       "      <td>4.66</td>\n",
       "      <td>55.82</td>\n",
       "      <td>73.16</td>\n",
       "      <td>0.08</td>\n",
       "      <td>0.06</td>\n",
       "      <td>3209.37</td>\n",
       "      <td>2678.96</td>\n",
       "      <td>1.0</td>\n",
       "    </tr>\n",
       "  </tbody>\n",
       "</table>\n",
       "</div>"
      ],
      "text/plain": [
       "                      mean      sd   hdi_3%  hdi_97%  mcse_mean  mcse_sd  \\\n",
       "Ansia                 4.66    0.84     3.01     6.13       0.01     0.01   \n",
       "Intercept         -1055.09  229.27 -1470.97  -615.01       3.71     2.65   \n",
       "Prestazione_sigma    64.14    4.66    55.82    73.16       0.08     0.06   \n",
       "\n",
       "                   ess_bulk  ess_tail  r_hat  \n",
       "Ansia               3797.94   2688.34    1.0  \n",
       "Intercept           3810.32   2766.51    1.0  \n",
       "Prestazione_sigma   3209.37   2678.96    1.0  "
      ]
     },
     "execution_count": 9,
     "metadata": {},
     "output_type": "execute_result"
    }
   ],
   "source": [
    "az.summary(results_ansia_only, round_to=2)"
   ]
  },
  {
   "cell_type": "code",
   "execution_count": 10,
   "metadata": {},
   "outputs": [
    {
     "data": {
      "text/html": [
       "<div>\n",
       "<style scoped>\n",
       "    .dataframe tbody tr th:only-of-type {\n",
       "        vertical-align: middle;\n",
       "    }\n",
       "\n",
       "    .dataframe tbody tr th {\n",
       "        vertical-align: top;\n",
       "    }\n",
       "\n",
       "    .dataframe thead th {\n",
       "        text-align: right;\n",
       "    }\n",
       "</style>\n",
       "<table border=\"1\" class=\"dataframe\">\n",
       "  <thead>\n",
       "    <tr style=\"text-align: right;\">\n",
       "      <th></th>\n",
       "      <th>names</th>\n",
       "      <th>coef</th>\n",
       "      <th>se</th>\n",
       "      <th>T</th>\n",
       "      <th>pval</th>\n",
       "      <th>r2</th>\n",
       "      <th>adj_r2</th>\n",
       "      <th>CI[2.5%]</th>\n",
       "      <th>CI[97.5%]</th>\n",
       "    </tr>\n",
       "  </thead>\n",
       "  <tbody>\n",
       "    <tr>\n",
       "      <th>0</th>\n",
       "      <td>Intercept</td>\n",
       "      <td>-1052.984249</td>\n",
       "      <td>226.249178</td>\n",
       "      <td>-4.654091</td>\n",
       "      <td>1.020933e-05</td>\n",
       "      <td>0.245386</td>\n",
       "      <td>0.237686</td>\n",
       "      <td>-1501.968379</td>\n",
       "      <td>-604.000119</td>\n",
       "    </tr>\n",
       "    <tr>\n",
       "      <th>1</th>\n",
       "      <td>Ansia</td>\n",
       "      <td>4.653853</td>\n",
       "      <td>0.824399</td>\n",
       "      <td>5.645148</td>\n",
       "      <td>1.608208e-07</td>\n",
       "      <td>0.245386</td>\n",
       "      <td>0.237686</td>\n",
       "      <td>3.017861</td>\n",
       "      <td>6.289846</td>\n",
       "    </tr>\n",
       "  </tbody>\n",
       "</table>\n",
       "</div>"
      ],
      "text/plain": [
       "       names         coef          se         T          pval        r2  \\\n",
       "0  Intercept -1052.984249  226.249178 -4.654091  1.020933e-05  0.245386   \n",
       "1      Ansia     4.653853    0.824399  5.645148  1.608208e-07  0.245386   \n",
       "\n",
       "     adj_r2     CI[2.5%]   CI[97.5%]  \n",
       "0  0.237686 -1501.968379 -604.000119  \n",
       "1  0.237686     3.017861    6.289846  "
      ]
     },
     "execution_count": 10,
     "metadata": {},
     "output_type": "execute_result"
    }
   ],
   "source": [
    "results_ansia_only = pg.linear_regression(data[[\"Ansia\"]], data[\"Prestazione\"])\n",
    "results_ansia_only"
   ]
  },
  {
   "cell_type": "markdown",
   "metadata": {},
   "source": [
    "Questa dimostrazione mette in luce l'importanza di includere tutte le variabili rilevanti in un modello di regressione per evitare conclusioni fuorvianti e garantire che le stime dei coefficienti riflettano veramente le relazioni causali tra le variabili."
   ]
  },
  {
   "cell_type": "markdown",
   "metadata": {},
   "source": [
    "## Informazioni sull'Ambiente di Sviluppo {.unnumbered}"
   ]
  },
  {
   "cell_type": "code",
   "execution_count": 11,
   "metadata": {},
   "outputs": [
    {
     "name": "stdout",
     "output_type": "stream",
     "text": [
      "Last updated: Thu Jun 13 2024\n",
      "\n",
      "Python implementation: CPython\n",
      "Python version       : 3.12.3\n",
      "IPython version      : 8.25.0\n",
      "\n",
      "Compiler    : Clang 16.0.6 \n",
      "OS          : Darwin\n",
      "Release     : 23.4.0\n",
      "Machine     : arm64\n",
      "Processor   : arm\n",
      "CPU cores   : 8\n",
      "Architecture: 64bit\n",
      "\n",
      "seaborn   : 0.13.2\n",
      "pandas    : 2.2.2\n",
      "scipy     : 1.13.1\n",
      "pymc      : 5.15.1\n",
      "pingouin  : 0.5.4\n",
      "numpy     : 1.26.4\n",
      "matplotlib: 3.8.4\n",
      "arviz     : 0.18.0\n",
      "bambi     : 0.13.0\n",
      "\n",
      "Watermark: 2.4.3\n",
      "\n"
     ]
    }
   ],
   "source": [
    "%load_ext watermark\n",
    "%watermark -n -u -v -iv -w -m "
   ]
  }
 ],
 "metadata": {
  "kernelspec": {
   "display_name": "pymc",
   "language": "python",
   "name": "python3"
  },
  "language_info": {
   "codemirror_mode": {
    "name": "ipython",
    "version": 3
   },
   "file_extension": ".py",
   "mimetype": "text/x-python",
   "name": "python",
   "nbconvert_exporter": "python",
   "pygments_lexer": "ipython3",
   "version": "3.12.3"
  },
  "vscode": {
   "interpreter": {
    "hash": "030ae53b1150d0ca6a72bb4a7a0454cbd9dab0eb2818ba119bbca0111e46e432"
   }
  }
 },
 "nbformat": 4,
 "nbformat_minor": 2
}
